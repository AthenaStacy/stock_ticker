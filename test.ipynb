{
 "cells": [
  {
   "cell_type": "code",
   "execution_count": 1,
   "metadata": {
    "collapsed": true
   },
   "outputs": [],
   "source": [
    "from flask import Flask,render_template,request,redirect,session\n",
    "import requests\n",
    "import pandas as pd\n",
    "import datetime as dt\n",
    "import numpy as np\n",
    "import pickle\n",
    "from scipy import spatial\n",
    "import itertools\n",
    "from scipy import signal\n",
    "from collections import Counter\n",
    "import simplejson as json\n",
    "import urllib2 \n",
    "import urllib"
   ]
  },
  {
   "cell_type": "code",
   "execution_count": 25,
   "metadata": {
    "collapsed": false
   },
   "outputs": [
    {
     "name": "stdout",
     "output_type": "stream",
     "text": [
      "406\n",
      "0\n"
     ]
    }
   ],
   "source": [
    "url = 'https://www.quandl.com/api/v3/datasets/WIKI/AAPL.jso?api_key=khszD7FbY99W9haQ6ZZr&start_date=2016-08-20'\n",
    "r = requests.get(url, auth=('user', 'pass'))\n",
    "print r.status_code\n",
    "#print r.headers['content-type']\n",
    "#r.encoding\n",
    "\n",
    "blerg = 0\n",
    "if(r.status_code == 200):\n",
    "    blerg = 1\n",
    "print blerg"
   ]
  },
  {
   "cell_type": "code",
   "execution_count": 3,
   "metadata": {
    "collapsed": false
   },
   "outputs": [
    {
     "name": "stdout",
     "output_type": "stream",
     "text": [
      "{\"dataset\":{\"id\":9775409,\"dataset_code\":\"AAPL\",\"database_code\":\"WIKI\",\"name\":\"Apple Inc (AAPL) Prices, Dividends, Splits and Trading Volume\",\"description\":\"End of day open, high, low, close and volume, dividends and splits, and split/dividend adjusted open, high, low close and volume for Apple Inc. (AAPL). Ex-Dividend is non-zero on ex-dividend dates. Split Ratio is 1 on non-split dates. Adjusted prices are calculated per CRSP (\\u003ca href=\\\"http://www.crsp.com/products/documentation/crsp-calculations\\\" rel=\\\"nofollow\\\" target=\\\"blank\\\"\\u003ewww.crsp.com/products/documentation/crsp-calculations\\u003c/a\\u003e)\\r\\n\\r\\n\\u003cp\\u003eThis data is in the public domain. You may copy, distribute, disseminate or include the data in other products for commercial and/or noncommercial purposes.\\u003c/p\\u003e\\r\\n\\u003cp\\u003eThis data is part of Quandl's Wiki initiative to get financial data permanently into the public domain. Quandl relies on users like you to flag errors and provide data where data is wrong or missing. Get involved: \\u003ca href=\\\"mailto:connect@quandl.com\\\" rel=\\\"nofollow\\\" target=\\\"blank\\\"\\u003econnect@quandl.com\\u003c/a\\u003e\",\"refreshed_at\":\"2016-08-26T21:47:23.141Z\",\"newest_available_date\":\"2016-08-26\",\"oldest_available_date\":\"1980-12-12\",\"column_names\":[\"Date\",\"Open\",\"High\",\"Low\",\"Close\",\"Volume\",\"Ex-Dividend\",\"Split Ratio\",\"Adj. Open\",\"Adj. High\",\"Adj. Low\",\"Adj. Close\",\"Adj. Volume\"],\"frequency\":\"daily\",\"type\":\"Time Series\",\"premium\":false,\"limit\":null,\"transform\":null,\"column_index\":null,\"start_date\":\"2016-08-20\",\"end_date\":\"2016-08-26\",\"data\":[[\"2016-08-26\",107.41,107.95,106.31,106.94,27534384.0,0.0,1.0,107.41,107.95,106.31,106.94,27534384.0],[\"2016-08-25\",107.39,107.88,106.68,107.57,24840787.0,0.0,1.0,107.39,107.88,106.68,107.57,24840787.0],[\"2016-08-24\",108.565,108.75,107.68,108.03,22807722.0,0.0,1.0,108.565,108.75,107.68,108.03,22807722.0],[\"2016-08-23\",108.59,109.32,108.53,108.85,19615651.0,0.0,1.0,108.59,109.32,108.53,108.85,19615651.0],[\"2016-08-22\",108.86,109.1,107.85,108.51,25223957.0,0.0,1.0,108.86,109.1,107.85,108.51,25223957.0]],\"collapse\":null,\"order\":null,\"database_id\":4922}}\n"
     ]
    },
    {
     "data": {
      "text/plain": [
       "{u'dataset': {u'collapse': None,\n",
       "  u'column_index': None,\n",
       "  u'column_names': [u'Date',\n",
       "   u'Open',\n",
       "   u'High',\n",
       "   u'Low',\n",
       "   u'Close',\n",
       "   u'Volume',\n",
       "   u'Ex-Dividend',\n",
       "   u'Split Ratio',\n",
       "   u'Adj. Open',\n",
       "   u'Adj. High',\n",
       "   u'Adj. Low',\n",
       "   u'Adj. Close',\n",
       "   u'Adj. Volume'],\n",
       "  u'data': [[u'2016-08-26',\n",
       "    107.41,\n",
       "    107.95,\n",
       "    106.31,\n",
       "    106.94,\n",
       "    27534384.0,\n",
       "    0.0,\n",
       "    1.0,\n",
       "    107.41,\n",
       "    107.95,\n",
       "    106.31,\n",
       "    106.94,\n",
       "    27534384.0],\n",
       "   [u'2016-08-25',\n",
       "    107.39,\n",
       "    107.88,\n",
       "    106.68,\n",
       "    107.57,\n",
       "    24840787.0,\n",
       "    0.0,\n",
       "    1.0,\n",
       "    107.39,\n",
       "    107.88,\n",
       "    106.68,\n",
       "    107.57,\n",
       "    24840787.0],\n",
       "   [u'2016-08-24',\n",
       "    108.565,\n",
       "    108.75,\n",
       "    107.68,\n",
       "    108.03,\n",
       "    22807722.0,\n",
       "    0.0,\n",
       "    1.0,\n",
       "    108.565,\n",
       "    108.75,\n",
       "    107.68,\n",
       "    108.03,\n",
       "    22807722.0],\n",
       "   [u'2016-08-23',\n",
       "    108.59,\n",
       "    109.32,\n",
       "    108.53,\n",
       "    108.85,\n",
       "    19615651.0,\n",
       "    0.0,\n",
       "    1.0,\n",
       "    108.59,\n",
       "    109.32,\n",
       "    108.53,\n",
       "    108.85,\n",
       "    19615651.0],\n",
       "   [u'2016-08-22',\n",
       "    108.86,\n",
       "    109.1,\n",
       "    107.85,\n",
       "    108.51,\n",
       "    25223957.0,\n",
       "    0.0,\n",
       "    1.0,\n",
       "    108.86,\n",
       "    109.1,\n",
       "    107.85,\n",
       "    108.51,\n",
       "    25223957.0]],\n",
       "  u'database_code': u'WIKI',\n",
       "  u'database_id': 4922,\n",
       "  u'dataset_code': u'AAPL',\n",
       "  u'description': u'End of day open, high, low, close and volume, dividends and splits, and split/dividend adjusted open, high, low close and volume for Apple Inc. (AAPL). Ex-Dividend is non-zero on ex-dividend dates. Split Ratio is 1 on non-split dates. Adjusted prices are calculated per CRSP (<a href=\"http://www.crsp.com/products/documentation/crsp-calculations\" rel=\"nofollow\" target=\"blank\">www.crsp.com/products/documentation/crsp-calculations</a>)\\r\\n\\r\\n<p>This data is in the public domain. You may copy, distribute, disseminate or include the data in other products for commercial and/or noncommercial purposes.</p>\\r\\n<p>This data is part of Quandl\\'s Wiki initiative to get financial data permanently into the public domain. Quandl relies on users like you to flag errors and provide data where data is wrong or missing. Get involved: <a href=\"mailto:connect@quandl.com\" rel=\"nofollow\" target=\"blank\">connect@quandl.com</a>',\n",
       "  u'end_date': u'2016-08-26',\n",
       "  u'frequency': u'daily',\n",
       "  u'id': 9775409,\n",
       "  u'limit': None,\n",
       "  u'name': u'Apple Inc (AAPL) Prices, Dividends, Splits and Trading Volume',\n",
       "  u'newest_available_date': u'2016-08-26',\n",
       "  u'oldest_available_date': u'1980-12-12',\n",
       "  u'order': None,\n",
       "  u'premium': False,\n",
       "  u'refreshed_at': u'2016-08-26T21:47:23.141Z',\n",
       "  u'start_date': u'2016-08-20',\n",
       "  u'transform': None,\n",
       "  u'type': u'Time Series'}}"
      ]
     },
     "execution_count": 3,
     "metadata": {},
     "output_type": "execute_result"
    }
   ],
   "source": [
    "text = r.text\n",
    "print text\n",
    "json.loads(text)\n",
    "#my_loads = json.loads(text)\n",
    "#print my_loads"
   ]
  },
  {
   "cell_type": "code",
   "execution_count": 4,
   "metadata": {
    "collapsed": false
   },
   "outputs": [
    {
     "name": "stdout",
     "output_type": "stream",
     "text": [
      "{u'dataset': {u'dataset_code': u'AAPL', u'column_names': [u'Date', u'Open', u'High', u'Low', u'Close', u'Volume', u'Ex-Dividend', u'Split Ratio', u'Adj. Open', u'Adj. High', u'Adj. Low', u'Adj. Close', u'Adj. Volume'], u'newest_available_date': u'2016-08-26', u'description': u'End of day open, high, low, close and volume, dividends and splits, and split/dividend adjusted open, high, low close and volume for Apple Inc. (AAPL). Ex-Dividend is non-zero on ex-dividend dates. Split Ratio is 1 on non-split dates. Adjusted prices are calculated per CRSP (<a href=\"http://www.crsp.com/products/documentation/crsp-calculations\" rel=\"nofollow\" target=\"blank\">www.crsp.com/products/documentation/crsp-calculations</a>)\\r\\n\\r\\n<p>This data is in the public domain. You may copy, distribute, disseminate or include the data in other products for commercial and/or noncommercial purposes.</p>\\r\\n<p>This data is part of Quandl\\'s Wiki initiative to get financial data permanently into the public domain. Quandl relies on users like you to flag errors and provide data where data is wrong or missing. Get involved: <a href=\"mailto:connect@quandl.com\" rel=\"nofollow\" target=\"blank\">connect@quandl.com</a>', u'end_date': u'2016-08-26', u'data': [[u'2016-08-26', 107.41, 107.95, 106.31, 106.94, 27534384.0, 0.0, 1.0, 107.41, 107.95, 106.31, 106.94, 27534384.0], [u'2016-08-25', 107.39, 107.88, 106.68, 107.57, 24840787.0, 0.0, 1.0, 107.39, 107.88, 106.68, 107.57, 24840787.0], [u'2016-08-24', 108.565, 108.75, 107.68, 108.03, 22807722.0, 0.0, 1.0, 108.565, 108.75, 107.68, 108.03, 22807722.0], [u'2016-08-23', 108.59, 109.32, 108.53, 108.85, 19615651.0, 0.0, 1.0, 108.59, 109.32, 108.53, 108.85, 19615651.0], [u'2016-08-22', 108.86, 109.1, 107.85, 108.51, 25223957.0, 0.0, 1.0, 108.86, 109.1, 107.85, 108.51, 25223957.0]], u'start_date': u'2016-08-20', u'limit': None, u'transform': None, u'order': None, u'refreshed_at': u'2016-08-26T21:47:23.141Z', u'frequency': u'daily', u'database_code': u'WIKI', u'oldest_available_date': u'1980-12-12', u'collapse': None, u'premium': False, u'database_id': 4922, u'column_index': None, u'type': u'Time Series', u'id': 9775409, u'name': u'Apple Inc (AAPL) Prices, Dividends, Splits and Trading Volume'}}\n"
     ]
    }
   ],
   "source": [
    "mydata = r.json()\n",
    "print mydata"
   ]
  },
  {
   "cell_type": "code",
   "execution_count": 5,
   "metadata": {
    "collapsed": false
   },
   "outputs": [],
   "source": [
    "my_df = pd.read_json(text)"
   ]
  },
  {
   "cell_type": "code",
   "execution_count": 6,
   "metadata": {
    "collapsed": false
   },
   "outputs": [
    {
     "data": {
      "text/html": [
       "<div>\n",
       "<table border=\"1\" class=\"dataframe\">\n",
       "  <thead>\n",
       "    <tr style=\"text-align: right;\">\n",
       "      <th></th>\n",
       "      <th>dataset</th>\n",
       "    </tr>\n",
       "  </thead>\n",
       "  <tbody>\n",
       "    <tr>\n",
       "      <th>collapse</th>\n",
       "      <td>None</td>\n",
       "    </tr>\n",
       "    <tr>\n",
       "      <th>column_index</th>\n",
       "      <td>None</td>\n",
       "    </tr>\n",
       "    <tr>\n",
       "      <th>column_names</th>\n",
       "      <td>[Date, Open, High, Low, Close, Volume, Ex-Divi...</td>\n",
       "    </tr>\n",
       "    <tr>\n",
       "      <th>data</th>\n",
       "      <td>[[2016-08-26, 107.41, 107.95, 106.31, 106.94, ...</td>\n",
       "    </tr>\n",
       "    <tr>\n",
       "      <th>database_code</th>\n",
       "      <td>WIKI</td>\n",
       "    </tr>\n",
       "    <tr>\n",
       "      <th>database_id</th>\n",
       "      <td>4922</td>\n",
       "    </tr>\n",
       "    <tr>\n",
       "      <th>dataset_code</th>\n",
       "      <td>AAPL</td>\n",
       "    </tr>\n",
       "    <tr>\n",
       "      <th>description</th>\n",
       "      <td>End of day open, high, low, close and volume, ...</td>\n",
       "    </tr>\n",
       "    <tr>\n",
       "      <th>end_date</th>\n",
       "      <td>2016-08-26</td>\n",
       "    </tr>\n",
       "    <tr>\n",
       "      <th>frequency</th>\n",
       "      <td>daily</td>\n",
       "    </tr>\n",
       "    <tr>\n",
       "      <th>id</th>\n",
       "      <td>9775409</td>\n",
       "    </tr>\n",
       "    <tr>\n",
       "      <th>limit</th>\n",
       "      <td>None</td>\n",
       "    </tr>\n",
       "    <tr>\n",
       "      <th>name</th>\n",
       "      <td>Apple Inc (AAPL) Prices, Dividends, Splits and...</td>\n",
       "    </tr>\n",
       "    <tr>\n",
       "      <th>newest_available_date</th>\n",
       "      <td>2016-08-26</td>\n",
       "    </tr>\n",
       "    <tr>\n",
       "      <th>oldest_available_date</th>\n",
       "      <td>1980-12-12</td>\n",
       "    </tr>\n",
       "    <tr>\n",
       "      <th>order</th>\n",
       "      <td>None</td>\n",
       "    </tr>\n",
       "    <tr>\n",
       "      <th>premium</th>\n",
       "      <td>False</td>\n",
       "    </tr>\n",
       "    <tr>\n",
       "      <th>refreshed_at</th>\n",
       "      <td>2016-08-26T21:47:23.141Z</td>\n",
       "    </tr>\n",
       "    <tr>\n",
       "      <th>start_date</th>\n",
       "      <td>2016-08-20</td>\n",
       "    </tr>\n",
       "    <tr>\n",
       "      <th>transform</th>\n",
       "      <td>None</td>\n",
       "    </tr>\n",
       "    <tr>\n",
       "      <th>type</th>\n",
       "      <td>Time Series</td>\n",
       "    </tr>\n",
       "  </tbody>\n",
       "</table>\n",
       "</div>"
      ],
      "text/plain": [
       "                                                                 dataset\n",
       "collapse                                                            None\n",
       "column_index                                                        None\n",
       "column_names           [Date, Open, High, Low, Close, Volume, Ex-Divi...\n",
       "data                   [[2016-08-26, 107.41, 107.95, 106.31, 106.94, ...\n",
       "database_code                                                       WIKI\n",
       "database_id                                                         4922\n",
       "dataset_code                                                        AAPL\n",
       "description            End of day open, high, low, close and volume, ...\n",
       "end_date                                                      2016-08-26\n",
       "frequency                                                          daily\n",
       "id                                                               9775409\n",
       "limit                                                               None\n",
       "name                   Apple Inc (AAPL) Prices, Dividends, Splits and...\n",
       "newest_available_date                                         2016-08-26\n",
       "oldest_available_date                                         1980-12-12\n",
       "order                                                               None\n",
       "premium                                                            False\n",
       "refreshed_at                                    2016-08-26T21:47:23.141Z\n",
       "start_date                                                    2016-08-20\n",
       "transform                                                           None\n",
       "type                                                         Time Series"
      ]
     },
     "execution_count": 6,
     "metadata": {},
     "output_type": "execute_result"
    }
   ],
   "source": [
    "my_df"
   ]
  },
  {
   "cell_type": "code",
   "execution_count": 7,
   "metadata": {
    "collapsed": false
   },
   "outputs": [
    {
     "name": "stdout",
     "output_type": "stream",
     "text": [
      "9775409\n",
      "AAPL\n",
      "[u'Date', u'Open', u'High', u'Low', u'Close', u'Volume', u'Ex-Dividend', u'Split Ratio', u'Adj. Open', u'Adj. High', u'Adj. Low', u'Adj. Close', u'Adj. Volume']\n",
      "[u'Date', u'Open', u'High', u'Low', u'Close', u'Volume', u'Ex-Dividend', u'Split Ratio', u'Adj. Open', u'Adj. High', u'Adj. Low', u'Adj. Close', u'Adj. Volume']\n",
      "[[u'2016-08-26', 107.41, 107.95, 106.31, 106.94, 27534384.0, 0.0, 1.0, 107.41, 107.95, 106.31, 106.94, 27534384.0], [u'2016-08-25', 107.39, 107.88, 106.68, 107.57, 24840787.0, 0.0, 1.0, 107.39, 107.88, 106.68, 107.57, 24840787.0], [u'2016-08-24', 108.565, 108.75, 107.68, 108.03, 22807722.0, 0.0, 1.0, 108.565, 108.75, 107.68, 108.03, 22807722.0], [u'2016-08-23', 108.59, 109.32, 108.53, 108.85, 19615651.0, 0.0, 1.0, 108.59, 109.32, 108.53, 108.85, 19615651.0], [u'2016-08-22', 108.86, 109.1, 107.85, 108.51, 25223957.0, 0.0, 1.0, 108.86, 109.1, 107.85, 108.51, 25223957.0]]\n"
     ]
    }
   ],
   "source": [
    "print my_df.dataset.id\n",
    "print my_df.dataset.dataset_code\n",
    "print my_df.dataset.column_names\n",
    "print my_df['dataset']['column_names']\n",
    "print my_df['dataset']['data']"
   ]
  },
  {
   "cell_type": "code",
   "execution_count": 158,
   "metadata": {
    "collapsed": false
   },
   "outputs": [
    {
     "name": "stdout",
     "output_type": "stream",
     "text": [
      "End of day open, high, low, close and volume, dividends and splits, and split/dividend adjusted open, high, low close and volume for Apple Inc. (AAPL). Ex-Dividend is non-zero on ex-dividend dates. Split Ratio is 1 on non-split dates. Adjusted prices are calculated per CRSP (<a href=\"http://www.crsp.com/products/documentation/crsp-calculations\" rel=\"nofollow\" target=\"blank\">www.crsp.com/products/documentation/crsp-calculations</a>)\r\n",
      "\r\n",
      "<p>This data is in the public domain. You may copy, distribute, disseminate or include the data in other products for commercial and/or noncommercial purposes.</p>\r\n",
      "<p>This data is part of Quandl's Wiki initiative to get financial data permanently into the public domain. Quandl relies on users like you to flag errors and provide data where data is wrong or missing. Get involved: <a href=\"mailto:connect@quandl.com\" rel=\"nofollow\" target=\"blank\">connect@quandl.com</a>\n",
      "[u'Date', u'Open', u'High', u'Low', u'Close', u'Volume', u'Ex-Dividend', u'Split Ratio', u'Adj. Open', u'Adj. High', u'Adj. Low', u'Adj. Close', u'Adj. Volume']\n",
      "daily\n",
      "[[u'2016-08-26', 107.41, 107.95, 106.31, 106.94, 27534384.0, 0.0, 1.0, 107.41, 107.95, 106.31, 106.94, 27534384.0], [u'2016-08-25', 107.39, 107.88, 106.68, 107.57, 24840787.0, 0.0, 1.0, 107.39, 107.88, 106.68, 107.57, 24840787.0], [u'2016-08-24', 108.565, 108.75, 107.68, 108.03, 22807722.0, 0.0, 1.0, 108.565, 108.75, 107.68, 108.03, 22807722.0], [u'2016-08-23', 108.59, 109.32, 108.53, 108.85, 19615651.0, 0.0, 1.0, 108.59, 109.32, 108.53, 108.85, 19615651.0], [u'2016-08-22', 108.86, 109.1, 107.85, 108.51, 25223957.0, 0.0, 1.0, 108.86, 109.1, 107.85, 108.51, 25223957.0]]\n"
     ]
    }
   ],
   "source": [
    "print my_df.dataset.description\n",
    "print my_df.dataset.column_names\n",
    "print my_df.dataset.frequency\n",
    "print my_df['dataset']['data']"
   ]
  },
  {
   "cell_type": "code",
   "execution_count": 8,
   "metadata": {
    "collapsed": false
   },
   "outputs": [
    {
     "name": "stdout",
     "output_type": "stream",
     "text": [
      "[u'Date', u'Open', u'High', u'Low', u'Close', u'Volume', u'Ex-Dividend', u'Split Ratio', u'Adj. Open', u'Adj. High', u'Adj. Low', u'Adj. Close', u'Adj. Volume']\n",
      "[[u'2016-08-26', 107.41, 107.95, 106.31, 106.94, 27534384.0, 0.0, 1.0, 107.41, 107.95, 106.31, 106.94, 27534384.0], [u'2016-08-25', 107.39, 107.88, 106.68, 107.57, 24840787.0, 0.0, 1.0, 107.39, 107.88, 106.68, 107.57, 24840787.0], [u'2016-08-24', 108.565, 108.75, 107.68, 108.03, 22807722.0, 0.0, 1.0, 108.565, 108.75, 107.68, 108.03, 22807722.0], [u'2016-08-23', 108.59, 109.32, 108.53, 108.85, 19615651.0, 0.0, 1.0, 108.59, 109.32, 108.53, 108.85, 19615651.0], [u'2016-08-22', 108.86, 109.1, 107.85, 108.51, 25223957.0, 0.0, 1.0, 108.86, 109.1, 107.85, 108.51, 25223957.0]]\n",
      "[u'2016-08-25', 107.39, 107.88, 106.68, 107.57, 24840787.0, 0.0, 1.0, 107.39, 107.88, 106.68, 107.57, 24840787.0]\n",
      "5\n",
      "['2004-02-01' '2004-02-02' '2004-02-03' '2004-02-04' '2004-02-05']\n",
      "['2016-08-26' '2016-08-25' '2016-08-24' '2016-08-23' '2004-02-05']\n",
      "[ 107.41   107.39   108.565  108.59 ]\n",
      "[ 107.95  107.88  108.75  109.32]\n",
      "[ 106.31  106.68  107.68  108.53]\n",
      "[ 106.94  107.57  108.03  108.85]\n"
     ]
    }
   ],
   "source": [
    "print my_df.dataset['column_names']\n",
    "print my_df['dataset']['data']\n",
    "print my_df['dataset']['data'][1]\n",
    "print len(my_df['dataset']['data'][:])\n",
    "length = len(my_df['dataset']['data'][:])\n",
    "\n",
    "c_names = my_df.dataset['column_names']\n",
    "\n",
    "datelist = np.arange('2004-02-01', '2005-02-01', dtype='datetime64[D]')\n",
    "\n",
    "datelist = datelist[0:length]\n",
    "\n",
    "open_price = np.arange(length-1, dtype='float64')\n",
    "high_price = np.arange(length-1, dtype='float64')\n",
    "low_price = np.arange(length-1, dtype='float64')\n",
    "close_price = np.arange(length-1, dtype='float64')\n",
    "\n",
    "print datelist\n",
    "\n",
    "for i in range(length-1):\n",
    "    datelist[i] = my_df['dataset']['data'][i][0]\n",
    "    open_price[i] = my_df['dataset']['data'][i][1]\n",
    "    high_price[i] = my_df['dataset']['data'][i][2]\n",
    "    low_price[i] = my_df['dataset']['data'][i][3]\n",
    "    close_price[i] = my_df['dataset']['data'][i][4]\n",
    "    \n",
    "\n",
    "print datelist\n",
    "print open_price\n",
    "print high_price\n",
    "print low_price\n",
    "print close_price\n",
    "    \n",
    "#my_new_df = DataFrame({'a': column1,\n",
    "#                'b': column2,\n",
    "#                'c': column3},\n",
    "#                 index=c_names)\n"
   ]
  },
  {
   "cell_type": "code",
   "execution_count": 13,
   "metadata": {
    "collapsed": false
   },
   "outputs": [],
   "source": [
    "from bokeh.layouts import gridplot\n",
    "from bokeh.plotting import figure, show, output_file\n",
    "from bokeh.embed import components \n",
    "\n",
    "TOOLS = \"pan,wheel_zoom,box_zoom,reset\"\n",
    "\n",
    "plot = figure(tools=TOOLS,\n",
    "              title='AAPL Data from Quandle WIKI set',\n",
    "              x_axis_label='date',\n",
    "              x_axis_type='datetime')\n",
    "\n",
    "plot.line(datelist, open_price, color='blue', legend = 'opening price')\n",
    "\n",
    "show(plot)\n",
    "\n",
    "#script, div = components(plot)\n",
    "#return render_template('graph.html', script=script, div=div)"
   ]
  }
 ],
 "metadata": {
  "anaconda-cloud": {},
  "kernelspec": {
   "display_name": "Python [py2]",
   "language": "python",
   "name": "Python [py2]"
  },
  "language_info": {
   "codemirror_mode": {
    "name": "ipython",
    "version": 2
   },
   "file_extension": ".py",
   "mimetype": "text/x-python",
   "name": "python",
   "nbconvert_exporter": "python",
   "pygments_lexer": "ipython2",
   "version": "2.7.12"
  }
 },
 "nbformat": 4,
 "nbformat_minor": 0
}
